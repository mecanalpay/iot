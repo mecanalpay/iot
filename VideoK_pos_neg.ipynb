{
  "nbformat": 4,
  "nbformat_minor": 0,
  "metadata": {
    "colab": {
      "provenance": [],
      "authorship_tag": "ABX9TyMXqcwAif/kSZzCT+jpHge1",
      "include_colab_link": true
    },
    "kernelspec": {
      "name": "python3",
      "display_name": "Python 3"
    },
    "language_info": {
      "name": "python"
    }
  },
  "cells": [
    {
      "cell_type": "markdown",
      "metadata": {
        "id": "view-in-github",
        "colab_type": "text"
      },
      "source": [
        "<a href=\"https://colab.research.google.com/github/mecanalpay/iot/blob/master/VideoK_pos_neg.ipynb\" target=\"_parent\"><img src=\"https://colab.research.google.com/assets/colab-badge.svg\" alt=\"Open In Colab\"/></a>"
      ]
    },
    {
      "cell_type": "code",
      "source": [],
      "metadata": {
        "id": "bMFpYE-_bL7D"
      },
      "execution_count": null,
      "outputs": []
    },
    {
      "cell_type": "code",
      "execution_count": 2,
      "metadata": {
        "id": "LY6OMbWiYmpY"
      },
      "outputs": [],
      "source": [
        "import numpy as np\n",
        "\n",
        "import tensorflow_datasets as tfds\n",
        "import tensorflow as tf\n",
        "\n",
        "tfds.disable_progress_bar()"
      ]
    },
    {
      "cell_type": "code",
      "source": [
        "import matplotlib.pyplot as plt\n",
        "\n",
        "\n",
        "def plot_graphs(history, metric):\n",
        "  plt.plot(history.history[metric])\n",
        "  plt.plot(history.history['val_'+metric], '')\n",
        "  plt.xlabel(\"Epochs\")\n",
        "  plt.ylabel(metric)\n",
        "  plt.legend([metric, 'val_'+metric])"
      ],
      "metadata": {
        "id": "nIlA7fyxYnPc"
      },
      "execution_count": 3,
      "outputs": []
    },
    {
      "cell_type": "markdown",
      "source": [
        "IMDB büyük film eleştiri veri kümesi bir ikili sınıflandırma veri kümesi-tüm yorumları pozitif ya da negatif duygular ya olması.\n",
        "\n",
        "Kullanarak veri kümesini indir TFDS . Bkz yükleme metin öğretici elle veri bu tür yüklemek konusunda detaylar için."
      ],
      "metadata": {
        "id": "M8QVAi-Vbfgh"
      }
    },
    {
      "cell_type": "code",
      "source": [
        "dataset, info = tfds.load('imdb_reviews', with_info=True,\n",
        "                          as_supervised=True)\n",
        "train_dataset, test_dataset = dataset['train'], dataset['test']\n",
        "\n",
        "train_dataset.element_spec"
      ],
      "metadata": {
        "colab": {
          "base_uri": "https://localhost:8080/"
        },
        "id": "87WA47yGYsvH",
        "outputId": "9bff7d4d-0e26-4a88-cc15-071098825aa8"
      },
      "execution_count": 4,
      "outputs": [
        {
          "output_type": "stream",
          "name": "stdout",
          "text": [
            "Downloading and preparing dataset 80.23 MiB (download: 80.23 MiB, generated: Unknown size, total: 80.23 MiB) to /root/tensorflow_datasets/imdb_reviews/plain_text/1.0.0...\n",
            "Dataset imdb_reviews downloaded and prepared to /root/tensorflow_datasets/imdb_reviews/plain_text/1.0.0. Subsequent calls will reuse this data.\n"
          ]
        },
        {
          "output_type": "execute_result",
          "data": {
            "text/plain": [
              "(TensorSpec(shape=(), dtype=tf.string, name=None),\n",
              " TensorSpec(shape=(), dtype=tf.int64, name=None))"
            ]
          },
          "metadata": {},
          "execution_count": 4
        }
      ]
    },
    {
      "cell_type": "markdown",
      "source": [
        "Başlangıçta bu (metin, etiket çiftleri) bir veri kümesi döndürür:"
      ],
      "metadata": {
        "id": "AWA-cqMybkhx"
      }
    },
    {
      "cell_type": "code",
      "source": [
        "for example, label in train_dataset.take(1):\n",
        "  print('text: ', example.numpy())\n",
        "  print('label: ', label.numpy())"
      ],
      "metadata": {
        "colab": {
          "base_uri": "https://localhost:8080/"
        },
        "id": "FSlnWAdlYwrc",
        "outputId": "0bb3bd09-f550-458c-b6a2-236021800332"
      },
      "execution_count": 5,
      "outputs": [
        {
          "output_type": "stream",
          "name": "stdout",
          "text": [
            "text:  b\"This was an absolutely terrible movie. Don't be lured in by Christopher Walken or Michael Ironside. Both are great actors, but this must simply be their worst role in history. Even their great acting could not redeem this movie's ridiculous storyline. This movie is an early nineties US propaganda piece. The most pathetic scenes were those when the Columbian rebels were making their cases for revolutions. Maria Conchita Alonso appeared phony, and her pseudo-love affair with Walken was nothing but a pathetic emotional plug in a movie that was devoid of any real meaning. I am disappointed that there are movies like this, ruining actor's like Christopher Walken's good name. I could barely sit through it.\"\n",
            "label:  0\n"
          ]
        }
      ]
    },
    {
      "cell_type": "markdown",
      "source": [
        "Sonraki eğitim için verileri karıştırmak ve bunların oluşturmak partiler (text, label) çiftleri:\n",
        "\n"
      ],
      "metadata": {
        "id": "rE0LNh0xbl25"
      }
    },
    {
      "cell_type": "code",
      "source": [
        "BUFFER_SIZE = 10000\n",
        "BATCH_SIZE = 64"
      ],
      "metadata": {
        "id": "jK3aAdRtZ6AQ"
      },
      "execution_count": 6,
      "outputs": []
    },
    {
      "cell_type": "code",
      "source": [
        "train_dataset = train_dataset.shuffle(BUFFER_SIZE).batch(BATCH_SIZE).prefetch(tf.data.AUTOTUNE)\n",
        "test_dataset = test_dataset.batch(BATCH_SIZE).prefetch(tf.data.AUTOTUNE)"
      ],
      "metadata": {
        "id": "aM8JFiBWaFsS"
      },
      "execution_count": 7,
      "outputs": []
    },
    {
      "cell_type": "code",
      "source": [
        "for example, label in train_dataset.take(1):\n",
        "  print('texts: ', example.numpy()[:3])\n",
        "  print()\n",
        "  print('labels: ', label.numpy()[:3])"
      ],
      "metadata": {
        "colab": {
          "base_uri": "https://localhost:8080/"
        },
        "id": "PrvWpYudaJbZ",
        "outputId": "b37b55e5-966b-4df3-e867-3b97b9c36b40"
      },
      "execution_count": 8,
      "outputs": [
        {
          "output_type": "stream",
          "name": "stdout",
          "text": [
            "texts:  [b'This is loosely based on the ideas of the original 80\\'s hit . It\\'s set in the modern day as we see a base in Afghanistan get destroyed by a UAV right at the start.<br /><br />And that\\'s exactly where the movie jumps the shark. UAV\\'s aren\\'t armed. They could be but I don\\'t think it\\'s ever been tried for real. We get to see the computer that has masterminded this operation, called R.I.P.L.E.Y. We are introduced to \"hacker\" Will Farmer (he\\'s good at chemistry & electronics which doesn\\'t make him a computer hacker) & his love interest, Annie) & Will\\'s 1st attempt at hacking is not only a complete failure his IP address is also logged and Annie guessed who it was. We also meet Wills mom who works for a chemical company.<br /><br />Wills taking money from his neighbours bank account (Mr Massude) isn\\'t a hack (he helped him set up the account), we then get a nod back to the original movie where they decide against playing Global Thermonuclear War & they play The Dead Code. The trace the RIPLEY office are running is NOT on Will but on Massude\\'s pc so all the evidence they were gathering was useless against Will.<br /><br />Exactly why RIPLEY shut Will\\'s machine down isn\\'t explained (he\\'s only playing an online game?) & also why it felt the need to have to shut down all the electricity in the entire block he lived in as well. Why a counter terrorism agency would see this as a viable target is extremely questionable. As for RIPLEY activating his mobile phone? I think not, it wasn\\'t connected to the pc and the message wouldn\\'t play unless he actually answered the phone so there\\'s more bad \"hacking\" science there too.<br /><br />RIPLEY agents arrive at Massude\\'s home, take him away & Will is given a envelope which turns out to contain a lot of money. Will searching for the licence plate of the car that took Massude isn\\'t a \"hack\" as you never see him break into the DMV computer. The RIPLEY agents who grab Dennis in the airport as he\\'s looking for Will have no authority to arrest or detain him. Will\\'s mother hadn\\'t \"been stealing chemicals & Bio agents\" either. And even if she did they had no right to arrest or detain Dennis. Patriot Act or not.<br /><br />I don\\'t know why Will was worried about being arrested for any crime in Canada as its a totally different country with different laws to the US.<br /><br />The computer has gone rogue and all the action its taken against Will, his mother & Dennis wasn\\'t sanctioned by a Government agency. The phone phreak we see Will do is the 1st show of any hacking skill in the movie, we also get a hack into RIPLEY which seemed too easy for such a powerful system.<br /><br />The \"guy\" who ran into Annie at the airport & was also watching them in the street was nothing to do with RIPLEY & the laughable notion that RIPLEY could track a cellphone whilst underground was as stupid as the idea that a computer reads lips.<br /><br />Another reference to the original movie when they mention Stephen Falken as the designer of the system RIPLEY replaced, the Joshua Project. We discover that the \"guy\" who ran into Annie is Falken (not played by the original actor sadly) who faked his own death.<br /><br />We also get to see WOPR as \"what\\'s going to help\" them beat RIPLEY and they kept the same voice used back then. Falken & WOPR are destroyed too quickly after being hardly used at all (the same explosion should kill Will, Annie & the Russian. It\\'s also unlikely they\\'d create a self-contained computer system that has the ability to nuke or drop chemical weapons on the country it operates out of.<br /><br />The whole \"Decontamination\" plot & idea are totally unbelievable. Those kinds of orders would have to go through the President or Joint Chiefs Of Staff. So yet another laughable & unbelievable idea.<br /><br />The IP hacks against RIPLEY aren\\'t done by Will, he just contacts one of his friends who suggests & implements the idea. It\\'s excessively laughable that Will would get a login just from increasing RIPLEY\\'s operating temperature. Having Joshua as a backdoor into RIPLEY (especially after it had been blown to bits) is an incredible cop-out and screams of a very desperate writer who had no ideas left and wanted to get this movie over and done with.<br /><br />There is an awful good where RIPLEY is playing Dead Code and we see a countdown (saying 17 minutes) then RIPLEY says \"Decontamination in 30 minutes\", how crap is that when they can\\'t even keep up with their own timer? RIPLEY\\'s attack mission against Philadelphia is halted (far too easily in my opinion) and it decides to attack Joshua in its internal circuits and reroutes the missile aimed a Philly to Washington where RIPLEY is stationed. The idea of the Nuclear exchange to make RIPLEY realise what she\\'s doing won\\'t work (surely she\\'d already know if she had Joshua insider her as he\\'d already learnt this lesson in the original movie?) is yet another nod back to the original movie.<br /><br />Their cop-out at having RIPLEY repeat Joshua\\'s exact same words form the end of the original movie just goes to show how many original ideas they were unable to come up with.<br /><br />If you want to point fingers for bad & stolen ideas the men to blame are Randall Badat & Rob Kerchner. This is an awful movie and is best avoided.'\n",
            " b\"This is the version that even the author hated, because it's so schmaltzy. They gave it a 'happy ending' and changed a lot of the dialogue, and it's just a big pile of saccharine. The 'stage manager' is quite good, I believe he originated the role, but everyone else falls into that acting style of the 40's that is really just posing. The one great feature- the music. This has one of the best scores ever recorded, and it's worth seeking out in a record shop. Overall I think the 1989 Spalding Grey/ Eric Stoltz/ Penelope Miller version is far superior.\"\n",
            " b\"The penultimate collaboration between director Anthony Mann and star James Stewart (excluding the few days Mann worked on Night Passage before parting company with the star under less than amicable circumstances), The Far Country belies its mainstream look to offer another portrait of an embittered man dragged unwillingly to his own redemption, fighting it every step of the way. This time he's a cattle driver whose response to labour problems - challenging troublesome cowhands to a gunfight at the end of the trail - results in his cattle being confiscated by John McIntire's larcenous judge of the Roy Bean school of law and order. Stealing them back and taking them across the Canadian border, he soon finds himself unwillingly drawn into the growing conflict between prospectors and the judge as he cheats or kills them out of their claims...<br /><br />While it's no great surprise which way Stewart turns at the end, he's a surprisingly callous critter along the way, even using his desire to just be left alone to excuse not warning a group of prospectors of an impending avalanche when he has the chance because it's not his problem. For most of the film there's really only a hair's breadth between him and McIntire, something the judge recognises immediately, revelling in the company of a kindred spirit even as he's genially planning to lynch him. In many ways the townspeople who put their faith in him probably recognise it too - despite their appeals to his dead-and-buried better nature, there's an unspoken acknowledgement that the only person who can stand up to the judge is someone almost as bad as he is.<br /><br />As usual with Mann there's an exceptional use of high country locations, though for once the final showdown takes place on level ground, and the film is almost perfectly cast with strong support from Walter Brennan, Harry Morgan and Ruth Roman (though Corinne Calvert's young romantic interest veers to the irritating). Sadly the great cinematography of the Canadian Rockies is done few favours by a distinctly average DVD transfer, with only the theatrical trailer as an extra.\"]\n",
            "\n",
            "labels:  [0 0 1]\n"
          ]
        }
      ]
    },
    {
      "cell_type": "markdown",
      "source": [
        "Metin kodlayıcıyı oluşturun\n",
        "Tarafından yüklenen ham metin tfds bir modelde kullanılmadan önce işlenmesi gerekir. Eğitim için işlem metne basit yolu kullanıyor TextVectorization katmanı. Bu katmanın birçok yeteneği vardır, ancak bu öğretici varsayılan davranışa bağlıdır.\n",
        "\n",
        "Katmanı oluşturun ve katmanın için veri kümesinin metin geçmek .adapt yöntemle:"
      ],
      "metadata": {
        "id": "j_CsyIdBbpTx"
      }
    },
    {
      "cell_type": "code",
      "source": [
        "VOCAB_SIZE = 1000\n",
        "encoder = tf.keras.layers.TextVectorization(\n",
        "    max_tokens=VOCAB_SIZE)\n",
        "encoder.adapt(train_dataset.map(lambda text, label: text))"
      ],
      "metadata": {
        "id": "TwtlRSSTaMIz"
      },
      "execution_count": 9,
      "outputs": []
    },
    {
      "cell_type": "markdown",
      "source": [
        ".adapt yöntem katmanın kelime ayarlar. İşte ilk 20 jeton. Doldurma ve bilinmeyen belirteçlerden sonra, frekansa göre sıralanırlar:"
      ],
      "metadata": {
        "id": "QBMUKNqSbxyB"
      }
    },
    {
      "cell_type": "code",
      "source": [
        "vocab = np.array(encoder.get_vocabulary())\n",
        "vocab[:20]"
      ],
      "metadata": {
        "colab": {
          "base_uri": "https://localhost:8080/"
        },
        "id": "pIRZjmSFaUq5",
        "outputId": "005fc3cc-4ad0-4991-bcef-2bf2b34e2b0a"
      },
      "execution_count": 10,
      "outputs": [
        {
          "output_type": "execute_result",
          "data": {
            "text/plain": [
              "array(['', '[UNK]', 'the', 'and', 'a', 'of', 'to', 'is', 'in', 'it', 'i',\n",
              "       'this', 'that', 'br', 'was', 'as', 'for', 'with', 'movie', 'but'],\n",
              "      dtype='<U14')"
            ]
          },
          "metadata": {},
          "execution_count": 10
        }
      ]
    },
    {
      "cell_type": "markdown",
      "source": [
        "Sözcük bilgisi ayarlandıktan sonra, katman metni dizinlere kodlayabilir. (Bir sabit set sürece indekslerinin tansörleri toplu uzun dizisine 0-yastıklı output_sequence_length ):"
      ],
      "metadata": {
        "id": "RCZ0JyZib1Qq"
      }
    },
    {
      "cell_type": "code",
      "source": [
        "encoded_example = encoder(example)[:3].numpy()\n",
        "encoded_example"
      ],
      "metadata": {
        "colab": {
          "base_uri": "https://localhost:8080/"
        },
        "id": "7Ffqi3hQaXbs",
        "outputId": "50af6e3b-fa22-4dff-fd3e-2f18368b57ba"
      },
      "execution_count": 11,
      "outputs": [
        {
          "output_type": "execute_result",
          "data": {
            "text/plain": [
              "array([[11,  7,  1, ...,  0,  0,  0],\n",
              "       [11,  7,  2, ...,  0,  0,  0],\n",
              "       [ 2,  1,  1, ...,  0,  0,  0]])"
            ]
          },
          "metadata": {},
          "execution_count": 11
        }
      ]
    },
    {
      "cell_type": "markdown",
      "source": [
        "Varsayılan ayarlarla, işlem tamamen geri döndürülemez. Bunun üç ana nedeni vardır:\n",
        "\n",
        "İçin varsayılan değer preprocessing.TextVectorization 'ın standardize argümanı olan \"lower_and_strip_punctuation\" .\n",
        "Sınırlı kelime boyutu ve karakter tabanlı geri dönüş eksikliği, bazı bilinmeyen belirteçlere neden olur."
      ],
      "metadata": {
        "id": "XvnvT89Cb734"
      }
    },
    {
      "cell_type": "code",
      "source": [
        "for n in range(3):\n",
        "  print(\"Original: \", example[n].numpy())\n",
        "  print(\"Round-trip: \", \" \".join(vocab[encoded_example[n]]))\n",
        "  print()"
      ],
      "metadata": {
        "colab": {
          "base_uri": "https://localhost:8080/"
        },
        "id": "bE8AAkYjacAx",
        "outputId": "0a52e574-3acb-4477-96a0-04f94a4668a0"
      },
      "execution_count": 12,
      "outputs": [
        {
          "output_type": "stream",
          "name": "stdout",
          "text": [
            "Original:  b'This is loosely based on the ideas of the original 80\\'s hit . It\\'s set in the modern day as we see a base in Afghanistan get destroyed by a UAV right at the start.<br /><br />And that\\'s exactly where the movie jumps the shark. UAV\\'s aren\\'t armed. They could be but I don\\'t think it\\'s ever been tried for real. We get to see the computer that has masterminded this operation, called R.I.P.L.E.Y. We are introduced to \"hacker\" Will Farmer (he\\'s good at chemistry & electronics which doesn\\'t make him a computer hacker) & his love interest, Annie) & Will\\'s 1st attempt at hacking is not only a complete failure his IP address is also logged and Annie guessed who it was. We also meet Wills mom who works for a chemical company.<br /><br />Wills taking money from his neighbours bank account (Mr Massude) isn\\'t a hack (he helped him set up the account), we then get a nod back to the original movie where they decide against playing Global Thermonuclear War & they play The Dead Code. The trace the RIPLEY office are running is NOT on Will but on Massude\\'s pc so all the evidence they were gathering was useless against Will.<br /><br />Exactly why RIPLEY shut Will\\'s machine down isn\\'t explained (he\\'s only playing an online game?) & also why it felt the need to have to shut down all the electricity in the entire block he lived in as well. Why a counter terrorism agency would see this as a viable target is extremely questionable. As for RIPLEY activating his mobile phone? I think not, it wasn\\'t connected to the pc and the message wouldn\\'t play unless he actually answered the phone so there\\'s more bad \"hacking\" science there too.<br /><br />RIPLEY agents arrive at Massude\\'s home, take him away & Will is given a envelope which turns out to contain a lot of money. Will searching for the licence plate of the car that took Massude isn\\'t a \"hack\" as you never see him break into the DMV computer. The RIPLEY agents who grab Dennis in the airport as he\\'s looking for Will have no authority to arrest or detain him. Will\\'s mother hadn\\'t \"been stealing chemicals & Bio agents\" either. And even if she did they had no right to arrest or detain Dennis. Patriot Act or not.<br /><br />I don\\'t know why Will was worried about being arrested for any crime in Canada as its a totally different country with different laws to the US.<br /><br />The computer has gone rogue and all the action its taken against Will, his mother & Dennis wasn\\'t sanctioned by a Government agency. The phone phreak we see Will do is the 1st show of any hacking skill in the movie, we also get a hack into RIPLEY which seemed too easy for such a powerful system.<br /><br />The \"guy\" who ran into Annie at the airport & was also watching them in the street was nothing to do with RIPLEY & the laughable notion that RIPLEY could track a cellphone whilst underground was as stupid as the idea that a computer reads lips.<br /><br />Another reference to the original movie when they mention Stephen Falken as the designer of the system RIPLEY replaced, the Joshua Project. We discover that the \"guy\" who ran into Annie is Falken (not played by the original actor sadly) who faked his own death.<br /><br />We also get to see WOPR as \"what\\'s going to help\" them beat RIPLEY and they kept the same voice used back then. Falken & WOPR are destroyed too quickly after being hardly used at all (the same explosion should kill Will, Annie & the Russian. It\\'s also unlikely they\\'d create a self-contained computer system that has the ability to nuke or drop chemical weapons on the country it operates out of.<br /><br />The whole \"Decontamination\" plot & idea are totally unbelievable. Those kinds of orders would have to go through the President or Joint Chiefs Of Staff. So yet another laughable & unbelievable idea.<br /><br />The IP hacks against RIPLEY aren\\'t done by Will, he just contacts one of his friends who suggests & implements the idea. It\\'s excessively laughable that Will would get a login just from increasing RIPLEY\\'s operating temperature. Having Joshua as a backdoor into RIPLEY (especially after it had been blown to bits) is an incredible cop-out and screams of a very desperate writer who had no ideas left and wanted to get this movie over and done with.<br /><br />There is an awful good where RIPLEY is playing Dead Code and we see a countdown (saying 17 minutes) then RIPLEY says \"Decontamination in 30 minutes\", how crap is that when they can\\'t even keep up with their own timer? RIPLEY\\'s attack mission against Philadelphia is halted (far too easily in my opinion) and it decides to attack Joshua in its internal circuits and reroutes the missile aimed a Philly to Washington where RIPLEY is stationed. The idea of the Nuclear exchange to make RIPLEY realise what she\\'s doing won\\'t work (surely she\\'d already know if she had Joshua insider her as he\\'d already learnt this lesson in the original movie?) is yet another nod back to the original movie.<br /><br />Their cop-out at having RIPLEY repeat Joshua\\'s exact same words form the end of the original movie just goes to show how many original ideas they were unable to come up with.<br /><br />If you want to point fingers for bad & stolen ideas the men to blame are Randall Badat & Rob Kerchner. This is an awful movie and is best avoided.'\n",
            "Round-trip:  this is [UNK] based on the ideas of the original 80s hit its set in the modern day as we see a [UNK] in [UNK] get [UNK] by a [UNK] right at the [UNK] br and thats exactly where the movie [UNK] the [UNK] [UNK] arent [UNK] they could be but i dont think its ever been tried for real we get to see the [UNK] that has [UNK] this [UNK] called [UNK] we are [UNK] to [UNK] will [UNK] hes good at [UNK] [UNK] which doesnt make him a [UNK] [UNK] his love interest [UNK] [UNK] [UNK] attempt at [UNK] is not only a complete [UNK] his [UNK] [UNK] is also [UNK] and [UNK] [UNK] who it was we also meet [UNK] [UNK] who works for a [UNK] [UNK] br [UNK] taking money from his [UNK] [UNK] [UNK] mr [UNK] isnt a [UNK] he [UNK] him set up the [UNK] we then get a [UNK] back to the original movie where they [UNK] against playing [UNK] [UNK] war they play the dead [UNK] the [UNK] the [UNK] [UNK] are running is not on will but on [UNK] [UNK] so all the [UNK] they were [UNK] was [UNK] against [UNK] br exactly why [UNK] [UNK] [UNK] [UNK] down isnt [UNK] hes only playing an [UNK] game also why it felt the need to have to [UNK] down all the [UNK] in the entire [UNK] he [UNK] in as well why a [UNK] [UNK] [UNK] would see this as a [UNK] [UNK] is extremely [UNK] as for [UNK] [UNK] his [UNK] [UNK] i think not it wasnt [UNK] to the [UNK] and the message wouldnt play unless he actually [UNK] the [UNK] so theres more bad [UNK] [UNK] there [UNK] br [UNK] [UNK] [UNK] at [UNK] home take him away will is given a [UNK] which turns out to [UNK] a lot of money will [UNK] for the [UNK] [UNK] of the car that took [UNK] isnt a [UNK] as you never see him [UNK] into the [UNK] [UNK] the [UNK] [UNK] who [UNK] [UNK] in the [UNK] as hes looking for will have no [UNK] to [UNK] or [UNK] him [UNK] mother [UNK] been [UNK] [UNK] [UNK] [UNK] either and even if she did they had no right to [UNK] or [UNK] [UNK] [UNK] act or [UNK] br i dont know why will was [UNK] about being [UNK] for any crime in [UNK] as its a totally different country with different [UNK] to the [UNK] br the [UNK] has gone [UNK] and all the action its taken against will his mother [UNK] wasnt [UNK] by a [UNK] [UNK] the [UNK] [UNK] we see will do is the [UNK] show of any [UNK] [UNK] in the movie we also get a [UNK] into [UNK] which seemed too easy for such a powerful [UNK] br the guy who [UNK] into [UNK] at the [UNK] was also watching them in the street was nothing to do with [UNK] the [UNK] [UNK] that [UNK] could [UNK] a [UNK] [UNK] [UNK] was as stupid as the idea that a [UNK] [UNK] [UNK] br another [UNK] to the original movie when they mention [UNK] [UNK] as the [UNK] of the [UNK] [UNK] [UNK] the [UNK] [UNK] we [UNK] that the guy who [UNK] into [UNK] is [UNK] not played by the original actor [UNK] who [UNK] his own [UNK] br we also get to see [UNK] as whats going to help them [UNK] [UNK] and they kept the same voice used back then [UNK] [UNK] are [UNK] too quickly after being hardly used at all the same [UNK] should kill will [UNK] the [UNK] its also [UNK] [UNK] create a [UNK] [UNK] [UNK] that has the [UNK] to [UNK] or [UNK] [UNK] [UNK] on the country it [UNK] out [UNK] br the whole [UNK] plot idea are totally [UNK] those [UNK] of [UNK] would have to go through the [UNK] or [UNK] [UNK] of [UNK] so yet another [UNK] [UNK] [UNK] br the [UNK] [UNK] against [UNK] arent done by will he just [UNK] one of his friends who [UNK] [UNK] the idea its [UNK] [UNK] that will would get a [UNK] just from [UNK] [UNK] [UNK] [UNK] having [UNK] as a [UNK] into [UNK] especially after it had been [UNK] to [UNK] is an [UNK] [UNK] and [UNK] of a very [UNK] writer who had no ideas left and wanted to get this movie over and done [UNK] br there is an awful good where [UNK] is playing dead [UNK] and we see a [UNK] saying [UNK] minutes then [UNK] says [UNK] in [UNK] minutes how crap is that when they cant even keep up with their own [UNK] [UNK] [UNK] [UNK] against [UNK] is [UNK] far too easily in my opinion and it [UNK] to [UNK] [UNK] in its [UNK] [UNK] and [UNK] the [UNK] [UNK] a [UNK] to [UNK] where [UNK] is [UNK] the idea of the [UNK] [UNK] to make [UNK] [UNK] what shes doing wont work [UNK] [UNK] already know if she had [UNK] [UNK] her as [UNK] already [UNK] this [UNK] in the original movie is yet another [UNK] back to the original moviebr br their [UNK] at having [UNK] [UNK] [UNK] [UNK] same words form the end of the original movie just goes to show how many original ideas they were [UNK] to come up [UNK] br if you want to point [UNK] for bad [UNK] ideas the men to [UNK] are [UNK] [UNK] [UNK] [UNK] this is an awful movie and is best [UNK]                        \n",
            "\n",
            "Original:  b\"This is the version that even the author hated, because it's so schmaltzy. They gave it a 'happy ending' and changed a lot of the dialogue, and it's just a big pile of saccharine. The 'stage manager' is quite good, I believe he originated the role, but everyone else falls into that acting style of the 40's that is really just posing. The one great feature- the music. This has one of the best scores ever recorded, and it's worth seeking out in a record shop. Overall I think the 1989 Spalding Grey/ Eric Stoltz/ Penelope Miller version is far superior.\"\n",
            "Round-trip:  this is the version that even the [UNK] [UNK] because its so [UNK] they gave it a happy ending and [UNK] a lot of the dialogue and its just a big [UNK] of [UNK] the stage [UNK] is quite good i believe he [UNK] the role but everyone else falls into that acting style of the [UNK] that is really just [UNK] the one great feature the music this has one of the best [UNK] ever [UNK] and its worth [UNK] out in a [UNK] [UNK] overall i think the [UNK] [UNK] [UNK] [UNK] [UNK] [UNK] [UNK] version is far [UNK]                                                                                                                                                                                                                                                                                                                                                                                                                                                                                                                                                                                                                                                                                                                                                                                                                                                                                 \n",
            "\n",
            "Original:  b\"The penultimate collaboration between director Anthony Mann and star James Stewart (excluding the few days Mann worked on Night Passage before parting company with the star under less than amicable circumstances), The Far Country belies its mainstream look to offer another portrait of an embittered man dragged unwillingly to his own redemption, fighting it every step of the way. This time he's a cattle driver whose response to labour problems - challenging troublesome cowhands to a gunfight at the end of the trail - results in his cattle being confiscated by John McIntire's larcenous judge of the Roy Bean school of law and order. Stealing them back and taking them across the Canadian border, he soon finds himself unwillingly drawn into the growing conflict between prospectors and the judge as he cheats or kills them out of their claims...<br /><br />While it's no great surprise which way Stewart turns at the end, he's a surprisingly callous critter along the way, even using his desire to just be left alone to excuse not warning a group of prospectors of an impending avalanche when he has the chance because it's not his problem. For most of the film there's really only a hair's breadth between him and McIntire, something the judge recognises immediately, revelling in the company of a kindred spirit even as he's genially planning to lynch him. In many ways the townspeople who put their faith in him probably recognise it too - despite their appeals to his dead-and-buried better nature, there's an unspoken acknowledgement that the only person who can stand up to the judge is someone almost as bad as he is.<br /><br />As usual with Mann there's an exceptional use of high country locations, though for once the final showdown takes place on level ground, and the film is almost perfectly cast with strong support from Walter Brennan, Harry Morgan and Ruth Roman (though Corinne Calvert's young romantic interest veers to the irritating). Sadly the great cinematography of the Canadian Rockies is done few favours by a distinctly average DVD transfer, with only the theatrical trailer as an extra.\"\n",
            "Round-trip:  the [UNK] [UNK] between director [UNK] [UNK] and star james [UNK] [UNK] the few days [UNK] worked on night [UNK] before [UNK] [UNK] with the star under less than [UNK] [UNK] the far country [UNK] its [UNK] look to [UNK] another [UNK] of an [UNK] man [UNK] [UNK] to his own [UNK] fighting it every [UNK] of the way this time hes a [UNK] [UNK] whose [UNK] to [UNK] problems [UNK] [UNK] [UNK] to a [UNK] at the end of the [UNK] [UNK] in his [UNK] being [UNK] by john [UNK] [UNK] [UNK] of the [UNK] [UNK] school of [UNK] and order [UNK] them back and taking them across the [UNK] [UNK] he soon finds himself [UNK] [UNK] into the [UNK] [UNK] between [UNK] and the [UNK] as he [UNK] or [UNK] them out of their [UNK] br while its no great surprise which way [UNK] turns at the end hes a [UNK] [UNK] [UNK] along the way even using his [UNK] to just be left alone to [UNK] not [UNK] a group of [UNK] of an [UNK] [UNK] when he has the chance because its not his problem for most of the film theres really only a [UNK] [UNK] between him and [UNK] something the [UNK] [UNK] [UNK] [UNK] in the [UNK] of a [UNK] [UNK] even as hes [UNK] [UNK] to [UNK] him in many ways the [UNK] who put their [UNK] in him probably [UNK] it too despite their [UNK] to his [UNK] better nature theres an [UNK] [UNK] that the only person who can stand up to the [UNK] is someone almost as bad as he [UNK] br as usual with [UNK] theres an [UNK] use of high country [UNK] though for once the final [UNK] takes place on level [UNK] and the film is almost perfectly cast with strong [UNK] from [UNK] [UNK] [UNK] [UNK] and [UNK] [UNK] though [UNK] [UNK] young romantic interest [UNK] to the [UNK] [UNK] the great cinematography of the [UNK] [UNK] is done few [UNK] by a [UNK] average dvd [UNK] with only the [UNK] [UNK] as an [UNK]                                                                                                                                                                                                                                                                                                                                                                                                                                                                                                                                                                                                                         \n",
            "\n"
          ]
        }
      ]
    },
    {
      "cell_type": "markdown",
      "source": [
        "modeli oluştur\n",
        "\n",
        "![bidirectional.png](data:image/png;base64,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)\n",
        "\n",
        "Yukarıdaki modelin bir diyagramıdır.\n",
        "\n",
        "Bu model olarak inşa olabilir tf.keras.Sequential .\n",
        "\n",
        "Birinci tabaka encoder belirteç endekslerinin bir sekansa metin dönüştürür.\n",
        "\n",
        "Kodlayıcıdan sonra bir gömme katmanı bulunur. Bir gömme katmanı, kelime başına bir vektör depolar. Çağrıldığında, kelime dizinlerinin dizilerini vektör dizilerine dönüştürür. Bu vektörler eğitilebilir. Eğitimden sonra (yeterli veri üzerinde), benzer anlamlara sahip kelimeler genellikle benzer vektörlere sahiptir.\n",
        "\n",
        "Bu indeks-arama çok daha etkili bir ile bir sıcak kodlanmış vektör geçen benzer bir işlem daha tf.keras.layers.Dense tabakası.\n",
        "\n",
        "Tekrarlayan bir sinir ağı (RNN), öğeler arasında yineleme yaparak dizi girişini işler. RNN'ler, çıktıları bir zaman adımından sonraki zaman adımındaki girdilerine iletir.\n",
        "\n",
        "tf.keras.layers.Bidirectional sargı ayrıca, bir RYSA tabaka ile birlikte kullanılabilir. Bu, girdiyi RNN katmanı boyunca ileri ve geri yayar ve ardından son çıktıyı birleştirir.\n",
        "\n",
        "Çift yönlü bir RNN'nin ana avantajı, girişin başlangıcından gelen sinyalin çıkışı etkilemek için her zaman adımında tamamen işlenmesine gerek olmamasıdır.\n",
        "\n",
        "Çift yönlü bir RNN'nin ana dezavantajı, kelimeler sona eklenirken tahminleri verimli bir şekilde aktaramamanızdır.\n",
        "\n",
        "RYSA tek bir vektöre dizisi dönüştürülür sonra iki layers.Dense sınıflandırma çıkış olarak tek bir logit için bu vektör gösteriminden bazı son işleme ve dönüştürme yapmak.\n",
        "\n",
        "Bunu uygulamak için kod aşağıdadır:"
      ],
      "metadata": {
        "id": "J25P37BhcBNY"
      }
    },
    {
      "cell_type": "code",
      "source": [
        "model = tf.keras.Sequential([\n",
        "    encoder,\n",
        "    tf.keras.layers.Embedding(\n",
        "        input_dim=len(encoder.get_vocabulary()),\n",
        "        output_dim=64,\n",
        "        # Use masking to handle the variable sequence lengths\n",
        "        mask_zero=True),\n",
        "    tf.keras.layers.Bidirectional(tf.keras.layers.LSTM(64)),\n",
        "    tf.keras.layers.Dense(64, activation='relu'),\n",
        "    tf.keras.layers.Dense(1)\n",
        "])"
      ],
      "metadata": {
        "id": "UJx6n03Kag2t"
      },
      "execution_count": 13,
      "outputs": []
    },
    {
      "cell_type": "markdown",
      "source": [
        "Lütfen Keras sıralı modelinin burada kullanıldığını unutmayın, çünkü modeldeki tüm katmanlar yalnızca tek girdiye sahiptir ve tek çıktı üretir. Durum bilgisi olan RNN katmanını kullanmak istemeniz durumunda, RNN katman durumlarını alıp yeniden kullanabilmeniz için modelinizi Keras işlevsel API'si veya model alt sınıflaması ile oluşturmak isteyebilirsiniz. Kontrol edin Keras RYSA rehber daha fazla ayrıntı için.\n",
        "\n",
        "Gömme tabakası maskeleme kullanımları değişen dizi-uzunlukları işlemek için. Sonra tüm katmanları Embedding destek maskeleme:"
      ],
      "metadata": {
        "id": "SQE6B6qJcYD6"
      }
    },
    {
      "cell_type": "code",
      "source": [
        "print([layer.supports_masking for layer in model.layers])"
      ],
      "metadata": {
        "colab": {
          "base_uri": "https://localhost:8080/"
        },
        "id": "MHo6Mm6Haqcn",
        "outputId": "f0a9bbaf-ae65-4d84-f075-7572c10d69c9"
      },
      "execution_count": 14,
      "outputs": [
        {
          "output_type": "stream",
          "name": "stdout",
          "text": [
            "[False, True, True, True, True]\n"
          ]
        }
      ]
    },
    {
      "cell_type": "markdown",
      "source": [
        "Bunun beklendiği gibi çalıştığını doğrulamak için bir cümleyi iki kez değerlendirin. İlk olarak, maskelenecek dolgu olmaması için tek başına:"
      ],
      "metadata": {
        "id": "dAzsPTWscarg"
      }
    },
    {
      "cell_type": "code",
      "source": [
        "# predict on a sample text without padding.\n",
        "\n",
        "sample_text = ('The movie was cool. The animation and the graphics '\n",
        "               'were out of this world. I would recommend this movie.')\n",
        "predictions = model.predict(np.array([sample_text]))\n",
        "print(predictions[0])"
      ],
      "metadata": {
        "colab": {
          "base_uri": "https://localhost:8080/"
        },
        "id": "pI9R90CMatti",
        "outputId": "105a679f-3b75-470e-c31e-79b13fd06672"
      },
      "execution_count": 15,
      "outputs": [
        {
          "output_type": "stream",
          "name": "stdout",
          "text": [
            "1/1 [==============================] - 3s 3s/step\n",
            "[-0.00054533]\n"
          ]
        }
      ]
    },
    {
      "cell_type": "markdown",
      "source": [
        "Şimdi, daha uzun bir cümle ile toplu olarak tekrar değerlendirin. Sonuç aynı olmalıdır:\n",
        "\n"
      ],
      "metadata": {
        "id": "ayrLLHo_cdLx"
      }
    },
    {
      "cell_type": "code",
      "source": [
        "# predict on a sample text with padding\n",
        "\n",
        "padding = \"the \" * 2000\n",
        "predictions = model.predict(np.array([sample_text, padding]))\n",
        "print(predictions[0])"
      ],
      "metadata": {
        "colab": {
          "base_uri": "https://localhost:8080/"
        },
        "id": "3B0yz7V8a3R4",
        "outputId": "365f0ffe-8832-414d-9ce3-fd0b35564b50"
      },
      "execution_count": 16,
      "outputs": [
        {
          "output_type": "stream",
          "name": "stdout",
          "text": [
            "1/1 [==============================] - 0s 369ms/step\n",
            "[-0.00054534]\n"
          ]
        }
      ]
    },
    {
      "cell_type": "markdown",
      "source": [
        "Eğitim sürecini yapılandırmak için Keras modelini derleyin:\n",
        "\n"
      ],
      "metadata": {
        "id": "tvbxXtZtciJI"
      }
    },
    {
      "cell_type": "code",
      "source": [
        "model.compile(loss=tf.keras.losses.BinaryCrossentropy(from_logits=True),\n",
        "              optimizer=tf.keras.optimizers.Adam(1e-4),\n",
        "              metrics=['accuracy'])"
      ],
      "metadata": {
        "id": "GN5Ax5baa-aP"
      },
      "execution_count": 17,
      "outputs": []
    },
    {
      "cell_type": "markdown",
      "source": [
        "**Video Kariyer Model Eğitimi**"
      ],
      "metadata": {
        "id": "T5K5OgF4ck9I"
      }
    },
    {
      "cell_type": "code",
      "source": [
        "history = model.fit(train_dataset, epochs=10,\n",
        "                    validation_data=test_dataset,\n",
        "                    validation_steps=30)"
      ],
      "metadata": {
        "colab": {
          "base_uri": "https://localhost:8080/"
        },
        "id": "NYgqBNwVbEyr",
        "outputId": "28af76ac-fa70-41ca-da70-3798ed2862f3"
      },
      "execution_count": 18,
      "outputs": [
        {
          "output_type": "stream",
          "name": "stdout",
          "text": [
            "Epoch 1/10\n",
            "391/391 [==============================] - 808s 2s/step - loss: 0.6534 - accuracy: 0.5571 - val_loss: 0.5321 - val_accuracy: 0.7042\n",
            "Epoch 2/10\n",
            "391/391 [==============================] - 762s 2s/step - loss: 0.4639 - accuracy: 0.7685 - val_loss: 0.4097 - val_accuracy: 0.8219\n",
            "Epoch 3/10\n",
            "391/391 [==============================] - 749s 2s/step - loss: 0.3818 - accuracy: 0.8290 - val_loss: 0.3850 - val_accuracy: 0.8396\n",
            "Epoch 4/10\n",
            "391/391 [==============================] - 736s 2s/step - loss: 0.3407 - accuracy: 0.8524 - val_loss: 0.3504 - val_accuracy: 0.8323\n",
            "Epoch 5/10\n",
            "391/391 [==============================] - 747s 2s/step - loss: 0.3246 - accuracy: 0.8585 - val_loss: 0.3378 - val_accuracy: 0.8578\n",
            "Epoch 6/10\n",
            "391/391 [==============================] - 737s 2s/step - loss: 0.3114 - accuracy: 0.8667 - val_loss: 0.3301 - val_accuracy: 0.8531\n",
            "Epoch 7/10\n",
            "391/391 [==============================] - 734s 2s/step - loss: 0.3075 - accuracy: 0.8670 - val_loss: 0.3238 - val_accuracy: 0.8562\n",
            "Epoch 8/10\n",
            "391/391 [==============================] - 746s 2s/step - loss: 0.3022 - accuracy: 0.8715 - val_loss: 0.3213 - val_accuracy: 0.8578\n",
            "Epoch 9/10\n",
            "391/391 [==============================] - 756s 2s/step - loss: 0.2998 - accuracy: 0.8736 - val_loss: 0.3210 - val_accuracy: 0.8557\n",
            "Epoch 10/10\n",
            "391/391 [==============================] - 746s 2s/step - loss: 0.2965 - accuracy: 0.8748 - val_loss: 0.3201 - val_accuracy: 0.8573\n"
          ]
        }
      ]
    },
    {
      "cell_type": "code",
      "source": [
        "test_loss, test_acc = model.evaluate(test_dataset)\n",
        "\n",
        "print('Test Loss:', test_loss)\n",
        "print('Test Accuracy:', test_acc)"
      ],
      "metadata": {
        "colab": {
          "base_uri": "https://localhost:8080/"
        },
        "id": "fVsT6d4uctOP",
        "outputId": "7bdb05b2-cf78-4173-8928-ddd3ac356015"
      },
      "execution_count": 19,
      "outputs": [
        {
          "output_type": "stream",
          "name": "stdout",
          "text": [
            "391/391 [==============================] - 174s 444ms/step - loss: 0.3145 - accuracy: 0.8598\n",
            "Test Loss: 0.31450948119163513\n",
            "Test Accuracy: 0.8598399758338928\n"
          ]
        }
      ]
    },
    {
      "cell_type": "code",
      "source": [
        "plt.figure(figsize=(16, 8))\n",
        "plt.subplot(1, 2, 1)\n",
        "plot_graphs(history, 'accuracy')\n",
        "plt.ylim(None, 1)\n",
        "plt.subplot(1, 2, 2)\n",
        "plot_graphs(history, 'loss')\n",
        "plt.ylim(0, None)"
      ],
      "metadata": {
        "id": "47UqaII2cymf"
      },
      "execution_count": null,
      "outputs": []
    },
    {
      "cell_type": "markdown",
      "source": [
        "Yeni bir öz geçmiş üzerinde bir tahmin yürütün:\n",
        "\n",
        "Tahmin >= 0.0 ise pozitif, aksi halde negatiftir.[bağlantı metni](https://)"
      ],
      "metadata": {
        "id": "GV4_ZP52iYpm"
      }
    },
    {
      "cell_type": "code",
      "source": [
        "sample_text = ('The movie was cool. The animation and the graphics '\n",
        "               'were out of this world. I would recommend this movie.')\n",
        "predictions = model.predict(np.array([sample_text]))"
      ],
      "metadata": {
        "colab": {
          "base_uri": "https://localhost:8080/"
        },
        "id": "CTCXQDQJibof",
        "outputId": "05d84a88-0be2-4bc5-e764-7b3072482e79"
      },
      "execution_count": 21,
      "outputs": [
        {
          "output_type": "stream",
          "name": "stdout",
          "text": [
            "1/1 [==============================] - 3s 3s/step\n"
          ]
        }
      ]
    },
    {
      "cell_type": "markdown",
      "source": [
        "İki veya daha fazla LSTM katmanını istifleyin\n",
        "Keras tekrarlayan katmanlar tarafından kontrol edilir mevcut iki modu vardır return_sequences yapıcı argüman:\n",
        "\n",
        "Eğer False her giriş dizisi için sadece son çıkışı verir (şekil (batch_size bir 2D tensörünün output_features)). Bu, önceki modelde kullanılan varsayılandır.\n",
        "\n",
        "Eğer True her timestep için ardışık çıkışların tam dizileri (şekil 3B tensörünün döndürülür (batch_size, timesteps, output_features) ).\n",
        "\n",
        "İşte ne olduğu gibi bilgiler görünüyor akış return_sequences=True :\n",
        "\n",
        "katmanlı_çift yönlü\n",
        "\n",
        "Bir kullanımı hakkında ilginç şey RNN ile return_sequences=True böyle, başka RYSA katmanına geçirilebilir böylece verimi hala girişi gibi, 3-eksenleri olmasıdır:"
      ],
      "metadata": {
        "id": "qc5n9jWvido3"
      }
    },
    {
      "cell_type": "code",
      "source": [
        "model = tf.keras.Sequential([\n",
        "    encoder,\n",
        "    tf.keras.layers.Embedding(len(encoder.get_vocabulary()), 64, mask_zero=True),\n",
        "    tf.keras.layers.Bidirectional(tf.keras.layers.LSTM(64,  return_sequences=True)),\n",
        "    tf.keras.layers.Bidirectional(tf.keras.layers.LSTM(32)),\n",
        "    tf.keras.layers.Dense(64, activation='relu'),\n",
        "    tf.keras.layers.Dropout(0.5),\n",
        "    tf.keras.layers.Dense(1)\n",
        "])"
      ],
      "metadata": {
        "id": "qCFmDa0Dii2u"
      },
      "execution_count": 22,
      "outputs": []
    },
    {
      "cell_type": "code",
      "source": [
        "model.compile(loss=tf.keras.losses.BinaryCrossentropy(from_logits=True),\n",
        "              optimizer=tf.keras.optimizers.Adam(1e-4),\n",
        "              metrics=['accuracy'])"
      ],
      "metadata": {
        "id": "RuqOL18JikeJ"
      },
      "execution_count": 23,
      "outputs": []
    },
    {
      "cell_type": "code",
      "source": [
        "history = model.fit(train_dataset, epochs=10,\n",
        "                    validation_data=test_dataset,\n",
        "                    validation_steps=30)"
      ],
      "metadata": {
        "colab": {
          "base_uri": "https://localhost:8080/"
        },
        "id": "lNEH278uil4a",
        "outputId": "afd0f1f3-3bd4-4a60-b265-e6a2a8e01f5a"
      },
      "execution_count": null,
      "outputs": [
        {
          "output_type": "stream",
          "name": "stdout",
          "text": [
            "Epoch 1/10\n",
            "391/391 [==============================] - 1472s 4s/step - loss: 0.6241 - accuracy: 0.5817 - val_loss: 0.4424 - val_accuracy: 0.7771\n",
            "Epoch 2/10\n",
            "391/391 [==============================] - 1440s 4s/step - loss: 0.3747 - accuracy: 0.8355 - val_loss: 0.3489 - val_accuracy: 0.8391\n",
            "Epoch 3/10\n",
            "391/391 [==============================] - 1459s 4s/step - loss: 0.3313 - accuracy: 0.8589 - val_loss: 0.3341 - val_accuracy: 0.8521\n",
            "Epoch 4/10\n",
            "391/391 [==============================] - 1440s 4s/step - loss: 0.3181 - accuracy: 0.8646 - val_loss: 0.3332 - val_accuracy: 0.8365\n",
            "Epoch 5/10\n",
            " 60/391 [===>..........................] - ETA: 18:59 - loss: 0.3086 - accuracy: 0.8680"
          ]
        }
      ]
    },
    {
      "cell_type": "code",
      "source": [
        "test_loss, test_acc = model.evaluate(test_dataset)\n",
        "\n",
        "print('Test Loss:', test_loss)\n",
        "print('Test Accuracy:', test_acc)"
      ],
      "metadata": {
        "id": "cAh6174KipMx"
      },
      "execution_count": null,
      "outputs": []
    },
    {
      "cell_type": "code",
      "source": [
        "# predict on a sample text without padding.\n",
        "\n",
        "sample_text = ('The movie was not good. The animation and the graphics '\n",
        "               'were terrible. I would not recommend this movie.')\n",
        "predictions = model.predict(np.array([sample_text]))\n",
        "print(predictions)"
      ],
      "metadata": {
        "id": "epRN4Cbzis9R"
      },
      "execution_count": null,
      "outputs": []
    },
    {
      "cell_type": "code",
      "source": [
        "plt.figure(figsize=(16, 6))\n",
        "plt.subplot(1, 2, 1)\n",
        "plot_graphs(history, 'accuracy')\n",
        "plt.subplot(1, 2, 2)\n",
        "plot_graphs(history, 'loss')"
      ],
      "metadata": {
        "id": "p6xT_afdivNB"
      },
      "execution_count": null,
      "outputs": []
    },
    {
      "cell_type": "code",
      "source": [],
      "metadata": {
        "id": "ahOUJ0gYbHJW"
      },
      "execution_count": null,
      "outputs": []
    }
  ]
}